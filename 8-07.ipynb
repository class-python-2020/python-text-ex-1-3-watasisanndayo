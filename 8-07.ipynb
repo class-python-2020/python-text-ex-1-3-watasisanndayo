{
 "metadata": {
  "language_info": {
   "codemirror_mode": {
    "name": "ipython",
    "version": 3
   },
   "file_extension": ".py",
   "mimetype": "text/x-python",
   "name": "python",
   "nbconvert_exporter": "python",
   "pygments_lexer": "ipython3",
   "version": "3.8.2-final"
  },
  "orig_nbformat": 2,
  "kernelspec": {
   "name": "python_defaultSpec_1598098869913",
   "display_name": "Python 3.8.2 32-bit"
  }
 },
 "nbformat": 4,
 "nbformat_minor": 2,
 "cells": [
  {
   "cell_type": "code",
   "execution_count": 2,
   "metadata": {},
   "outputs": [
    {
     "output_type": "execute_result",
     "data": {
      "text/plain": "'{\"0\": [1, 2, 3, 4, 5], \"1\": [6, 7, 8, 9, 10], \"2\": {\"a\": [11, 12, 13], \"b\": [14, 15, 16]}}'"
     },
     "metadata": {},
     "execution_count": 2
    }
   ],
   "source": [
    "import json\n",
    "x = {0: [1, 2, 3, 4, 5], 1: [6, 7, 8, 9, 10], 2: {'a': [11, 12, 13], 'b': [14, 15, 16]}}\n",
    "jds = json.dumps(x)\n",
    "jds"
   ]
  },
  {
   "cell_type": "code",
   "execution_count": 3,
   "metadata": {},
   "outputs": [
    {
     "output_type": "execute_result",
     "data": {
      "text/plain": "{'0': [1, 2, 3, 4, 5],\n '1': [6, 7, 8, 9, 10],\n '2': {'a': [11, 12, 13], 'b': [14, 15, 16]}}"
     },
     "metadata": {},
     "execution_count": 3
    }
   ],
   "source": [
    "x2 = json.loads(jds)\n",
    "x2"
   ]
  },
  {
   "cell_type": "code",
   "execution_count": 6,
   "metadata": {},
   "outputs": [],
   "source": [
    "import json\n",
    "with open('test1.json', 'w') as f:\n",
    "    json.dump(x, f)"
   ]
  },
  {
   "cell_type": "code",
   "execution_count": 7,
   "metadata": {},
   "outputs": [
    {
     "output_type": "execute_result",
     "data": {
      "text/plain": "{'0': [1, 2, 3, 4, 5],\n '1': [6, 7, 8, 9, 10],\n '2': {'a': [11, 12, 13], 'b': [14, 15, 16]}}"
     },
     "metadata": {},
     "execution_count": 7
    }
   ],
   "source": [
    "import json\n",
    "with open('test1.json', 'r') as f:\n",
    "    x3 = json.load(f)\n",
    "x3"
   ]
  },
  {
   "cell_type": "code",
   "execution_count": 9,
   "metadata": {
    "tags": []
   },
   "outputs": [
    {
     "output_type": "stream",
     "name": "stdout",
     "text": "Not JSON Format\n"
    }
   ],
   "source": [
    "my_text = \"{'a':1 \"\n",
    "try:\n",
    "    json.loads(my_text)\n",
    "except json.JSONDecodeError as e:\n",
    "    print('Not JSON Format')\n",
    "else:\n",
    "    print('JSON Format')"
   ]
  },
  {
   "cell_type": "code",
   "execution_count": 10,
   "metadata": {
    "tags": []
   },
   "outputs": [
    {
     "output_type": "stream",
     "name": "stdout",
     "text": "tanaka {'age': 20, 'bloodtype': 'A', 'gender': 'male'}\nsatou {'age': 19, 'bloodtype': 'O', 'gender': 'female'}\nsuzuki {'age': 20, 'bloodtype': 'AB'}\n"
    }
   ],
   "source": [
    "import json\n",
    "name_list = {\n",
    "    'tanaka':{\n",
    "        'age':20,\n",
    "        'bloodtype':'A',\n",
    "        'gender': 'male'\n",
    "    },\n",
    "    'satou':{\n",
    "        'age':19,\n",
    "        'bloodtype':'O',\n",
    "        'gender':'female'\n",
    "    },\n",
    "    'suzuki':{\n",
    "        'age':20,\n",
    "        'bloodtype':'AB',\n",
    "    }\n",
    "}\n",
    "\n",
    "with open('name_list.json', 'w') as f1:\n",
    "    json.dump(name_list, f1)\n",
    "\n",
    "with open('name_list.json', 'r') as f2:\n",
    "    name_list_l = json.load(f2)\n",
    "\n",
    "for key, val in name_list_l.items():\n",
    "    print(key, val)"
   ]
  },
  {
   "cell_type": "code",
   "execution_count": 13,
   "metadata": {},
   "outputs": [
    {
     "output_type": "error",
     "ename": "SyntaxError",
     "evalue": "invalid syntax (<ipython-input-13-af50e5e3e214>, line 2)",
     "traceback": [
      "\u001b[1;36m  File \u001b[1;32m\"<ipython-input-13-af50e5e3e214>\"\u001b[1;36m, line \u001b[1;32m2\u001b[0m\n\u001b[1;33m    test_json = '{'age': 11, 'age': 12, 'age': 13}'\u001b[0m\n\u001b[1;37m                   ^\u001b[0m\n\u001b[1;31mSyntaxError\u001b[0m\u001b[1;31m:\u001b[0m invalid syntax\n"
     ]
    }
   ],
   "source": [
    "import json\n",
    "test_json = '{'age': 11, 'age': 12, 'age': 13}'\n",
    "json.loads(test_json)"
   ]
  },
  {
   "cell_type": "code",
   "execution_count": null,
   "metadata": {},
   "outputs": [],
   "source": []
  }
 ]
}