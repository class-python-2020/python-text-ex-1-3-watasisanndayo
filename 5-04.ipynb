{
 "metadata": {
  "language_info": {
   "codemirror_mode": {
    "name": "ipython",
    "version": 3
   },
   "file_extension": ".py",
   "mimetype": "text/x-python",
   "name": "python",
   "nbconvert_exporter": "python",
   "pygments_lexer": "ipython3",
   "version": "3.8.2-final"
  },
  "orig_nbformat": 2,
  "kernelspec": {
   "name": "python_defaultSpec_1597759843292",
   "display_name": "Python 3.8.2 32-bit"
  }
 },
 "nbformat": 4,
 "nbformat_minor": 2,
 "cells": [
  {
   "cell_type": "code",
   "execution_count": 1,
   "metadata": {},
   "outputs": [
    {
     "output_type": "execute_result",
     "data": {
      "text/plain": "(1, 4, 9, 16, 25)"
     },
     "metadata": {},
     "execution_count": 1
    }
   ],
   "source": [
    "(1, 4, 9, 16, 25)"
   ]
  },
  {
   "cell_type": "code",
   "execution_count": 2,
   "metadata": {},
   "outputs": [
    {
     "output_type": "execute_result",
     "data": {
      "text/plain": "(36,)"
     },
     "metadata": {},
     "execution_count": 2
    }
   ],
   "source": [
    "(36,)"
   ]
  },
  {
   "cell_type": "code",
   "execution_count": 3,
   "metadata": {},
   "outputs": [
    {
     "output_type": "execute_result",
     "data": {
      "text/plain": "(1, 4, 9, 16, 25)"
     },
     "metadata": {},
     "execution_count": 3
    }
   ],
   "source": [
    "tuple_square = (1, 4, 9, 16, 25)\n",
    "tuple_square"
   ]
  },
  {
   "cell_type": "code",
   "execution_count": 4,
   "metadata": {},
   "outputs": [
    {
     "output_type": "execute_result",
     "data": {
      "text/plain": "(1, 4, 9, 16, 25)"
     },
     "metadata": {},
     "execution_count": 4
    }
   ],
   "source": [
    "tuple_square2 = 1, 4, 9, 16, 25\n",
    "tuple_square2"
   ]
  },
  {
   "cell_type": "code",
   "execution_count": 5,
   "metadata": {},
   "outputs": [
    {
     "output_type": "execute_result",
     "data": {
      "text/plain": "(1, 4, 9, 16, 25)"
     },
     "metadata": {},
     "execution_count": 5
    }
   ],
   "source": [
    "a, b, c, d, e = tuple_square\n",
    "a, b, c, d, e"
   ]
  },
  {
   "cell_type": "code",
   "execution_count": 6,
   "metadata": {},
   "outputs": [
    {
     "output_type": "execute_result",
     "data": {
      "text/plain": "4"
     },
     "metadata": {},
     "execution_count": 6
    }
   ],
   "source": [
    "tuple_square[1]"
   ]
  },
  {
   "cell_type": "code",
   "execution_count": 7,
   "metadata": {},
   "outputs": [
    {
     "output_type": "execute_result",
     "data": {
      "text/plain": "(9, 16, 25)"
     },
     "metadata": {},
     "execution_count": 7
    }
   ],
   "source": [
    "tuple_square[2:5]"
   ]
  },
  {
   "cell_type": "code",
   "execution_count": 8,
   "metadata": {
    "tags": []
   },
   "outputs": [
    {
     "output_type": "stream",
     "name": "stdout",
     "text": "(1, 4, 9, 16, 25)\n(1, 4, 9, 16, 25, 36, 49)\n"
    }
   ],
   "source": [
    "tuple_square = (1, 4, 9, 16, 25)\n",
    "print(tuple_square)\n",
    "tuple_square = (1, 4, 9, 16, 25, 36, 49)\n",
    "print(tuple_square)"
   ]
  },
  {
   "cell_type": "code",
   "execution_count": 9,
   "metadata": {},
   "outputs": [
    {
     "output_type": "error",
     "ename": "NameError",
     "evalue": "name 'tuple_square' is not defined",
     "traceback": [
      "\u001b[1;31m---------------------------------------------------------------------------\u001b[0m",
      "\u001b[1;31mNameError\u001b[0m                                 Traceback (most recent call last)",
      "\u001b[1;32m<ipython-input-9-48c6af70b0d0>\u001b[0m in \u001b[0;36m<module>\u001b[1;34m\u001b[0m\n\u001b[0;32m      1\u001b[0m \u001b[1;32mdel\u001b[0m \u001b[0mtuple_square\u001b[0m\u001b[1;33m\u001b[0m\u001b[1;33m\u001b[0m\u001b[0m\n\u001b[1;32m----> 2\u001b[1;33m \u001b[0mtuple_square\u001b[0m\u001b[1;33m\u001b[0m\u001b[1;33m\u001b[0m\u001b[0m\n\u001b[0m",
      "\u001b[1;31mNameError\u001b[0m: name 'tuple_square' is not defined"
     ]
    }
   ],
   "source": [
    "del tuple_square\n",
    "tuple_square"
   ]
  },
  {
   "cell_type": "code",
   "execution_count": 10,
   "metadata": {},
   "outputs": [
    {
     "output_type": "execute_result",
     "data": {
      "text/plain": "'NagoyaOsaka'"
     },
     "metadata": {},
     "execution_count": 10
    }
   ],
   "source": [
    "a, b, c, d, e = ('Sapporo', 'Sendai', 'Tokyo', 'Nagoya', 'Osaka')\n",
    "g = d + e\n",
    "g"
   ]
  },
  {
   "cell_type": "code",
   "execution_count": 11,
   "metadata": {},
   "outputs": [
    {
     "output_type": "execute_result",
     "data": {
      "text/plain": "9"
     },
     "metadata": {},
     "execution_count": 11
    }
   ],
   "source": [
    "a, b, c, d, e = (1, 2, 3, 4, 5)\n",
    "d + e"
   ]
  },
  {
   "cell_type": "code",
   "execution_count": 12,
   "metadata": {},
   "outputs": [
    {
     "output_type": "execute_result",
     "data": {
      "text/plain": "(1, 2, 3, 4, 5, 1, 2, 3, 4, 5)"
     },
     "metadata": {},
     "execution_count": 12
    }
   ],
   "source": [
    "(1, 2, 3, 4, 5) + (1, 2, 3, 4, 5)"
   ]
  },
  {
   "cell_type": "code",
   "execution_count": 13,
   "metadata": {},
   "outputs": [
    {
     "output_type": "execute_result",
     "data": {
      "text/plain": "[2, 4, 6, 8, 10]"
     },
     "metadata": {},
     "execution_count": 13
    }
   ],
   "source": [
    "tp1 = (1, 2, 3, 4, 5)\n",
    "tp2 = (1, 2, 3, 4, 5)\n",
    "[x + y for (x, y) in zip(tp1, tp2)]"
   ]
  },
  {
   "cell_type": "code",
   "execution_count": 14,
   "metadata": {},
   "outputs": [
    {
     "output_type": "execute_result",
     "data": {
      "text/plain": "[2, 4, 6, 8, 10]"
     },
     "metadata": {},
     "execution_count": 14
    }
   ],
   "source": [
    "def tpadd(x, y):\n",
    "    return x + y\n",
    "list(map(tpadd, tp1, tp2))"
   ]
  },
  {
   "cell_type": "code",
   "execution_count": 15,
   "metadata": {},
   "outputs": [
    {
     "output_type": "execute_result",
     "data": {
      "text/plain": "(1, 2, 3, 4, 5, 1, 2, 3, 4, 5, 1, 2, 3, 4, 5)"
     },
     "metadata": {},
     "execution_count": 15
    }
   ],
   "source": [
    "(1, 2, 3, 4, 5) * 3"
   ]
  },
  {
   "cell_type": "code",
   "execution_count": null,
   "metadata": {},
   "outputs": [],
   "source": []
  }
 ]
}