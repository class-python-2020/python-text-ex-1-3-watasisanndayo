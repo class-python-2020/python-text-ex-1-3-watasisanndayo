{
 "metadata": {
  "language_info": {
   "codemirror_mode": {
    "name": "ipython",
    "version": 3
   },
   "file_extension": ".py",
   "mimetype": "text/x-python",
   "name": "python",
   "nbconvert_exporter": "python",
   "pygments_lexer": "ipython3",
   "version": "3.8.2-final"
  },
  "orig_nbformat": 2,
  "kernelspec": {
   "name": "python_defaultSpec_1597762910176",
   "display_name": "Python 3.8.2 32-bit"
  }
 },
 "nbformat": 4,
 "nbformat_minor": 2,
 "cells": [
  {
   "cell_type": "code",
   "execution_count": 1,
   "metadata": {},
   "outputs": [
    {
     "output_type": "execute_result",
     "data": {
      "text/plain": "{0: 0, 1: 1, 2: 4, 3: 9, 4: 16, 5: 25, 6: 36, 7: 49, 8: 64, 9: 81, 10: 100}"
     },
     "metadata": {},
     "execution_count": 1
    }
   ],
   "source": [
    "square_dict = {x: x*x for x in range(11)}\n",
    "square_dict"
   ]
  },
  {
   "cell_type": "code",
   "execution_count": 2,
   "metadata": {},
   "outputs": [
    {
     "output_type": "execute_result",
     "data": {
      "text/plain": "{(0, 0): 0, (0, 1): 0, (1, 0): 0, (1, 1): 1}"
     },
     "metadata": {},
     "execution_count": 2
    }
   ],
   "source": [
    "multiplicated_xy_dict = {(x, y):x*y for x in range(2) for y in range(2)}\n",
    "multiplicated_xy_dict"
   ]
  },
  {
   "cell_type": "code",
   "execution_count": 5,
   "metadata": {},
   "outputs": [
    {
     "output_type": "execute_result",
     "data": {
      "text/plain": "{('Hokkaido', 'Sapporo'): 100,\n ('Hokkaido', 'Hakodate'): 200,\n ('Tokyo', 'Minato'): 300,\n ('Kanagawa', 'Yokohama'): 400}"
     },
     "metadata": {},
     "execution_count": 5
    }
   ],
   "source": [
    "prefectures = ['Hokkaido', 'Hokkaido', 'Tokyo', 'Kanagawa']\n",
    "cities = ['Sapporo', 'Hakodate', 'Minato', 'Yokohama']\n",
    "populations = [100, 200, 300, 400]\n",
    "population_dict = {(state, city): population for state, city, population in zip(prefectures, cities, populations)}\n",
    "population_dict"
   ]
  },
  {
   "cell_type": "code",
   "execution_count": 6,
   "metadata": {},
   "outputs": [
    {
     "output_type": "execute_result",
     "data": {
      "text/plain": "{frozenset({0}): 0, frozenset({0, 1}): 0, frozenset({1}): 1}"
     },
     "metadata": {},
     "execution_count": 6
    }
   ],
   "source": [
    "multiplicated_xy_setdict = {frozenset([x, y]): x*y for x in range(2) for y in range(2)}\n",
    "multiplicated_xy_setdict"
   ]
  },
  {
   "cell_type": "code",
   "execution_count": 8,
   "metadata": {},
   "outputs": [
    {
     "output_type": "execute_result",
     "data": {
      "text/plain": "{0: {0: 0, 1: 0, 2: 0}, 1: {0: 0, 1: 1, 2: 2}, 2: {0: 0, 1: 2, 2: 4}}"
     },
     "metadata": {},
     "execution_count": 8
    }
   ],
   "source": [
    "{0: {0: 0, 1: 0, 2: 0}, 1: {0: 0, 1: 1, 2: 2}, 2: {0: 0, 1: 2, 2: 4}}"
   ]
  },
  {
   "cell_type": "code",
   "execution_count": 9,
   "metadata": {},
   "outputs": [
    {
     "output_type": "execute_result",
     "data": {
      "text/plain": "{0: {0: 0, 1: 0, 2: 0}, 1: {0: 0, 1: 1, 2: 2}, 2: {0: 0, 1: 2, 2: 4}}"
     },
     "metadata": {},
     "execution_count": 9
    }
   ],
   "source": [
    "multiplicated_xy_dict = {}\n",
    "I = 3\n",
    "J = 3\n",
    "for i in range(I):\n",
    "    multiplicated_xy_dict[i] = {}\n",
    "    for j in range(J):\n",
    "        multiplicated_xy_dict[i][j] = i*j\n",
    "multiplicated_xy_dict"
   ]
  },
  {
   "cell_type": "code",
   "execution_count": 10,
   "metadata": {},
   "outputs": [
    {
     "output_type": "execute_result",
     "data": {
      "text/plain": "{0: {0: 0, 1: 0, 2: 0}, 1: {0: 0, 1: 1, 2: 2}, 2: {0: 0, 1: 2, 2: 4}}"
     },
     "metadata": {},
     "execution_count": 10
    }
   ],
   "source": [
    "I = 3\n",
    "J = 3\n",
    "multiplicated_xy_dict = {i:{j:(i*j) for j in range(J)} for i in range(I)}\n",
    "multiplicated_xy_dict"
   ]
  },
  {
   "cell_type": "code",
   "execution_count": 11,
   "metadata": {},
   "outputs": [
    {
     "output_type": "execute_result",
     "data": {
      "text/plain": "4"
     },
     "metadata": {},
     "execution_count": 11
    }
   ],
   "source": [
    "multiplicated_xy_dict[2][2]"
   ]
  },
  {
   "cell_type": "code",
   "execution_count": 12,
   "metadata": {
    "tags": []
   },
   "outputs": [
    {
     "output_type": "stream",
     "name": "stdout",
     "text": "key1\tkey2\tval\n"
    },
    {
     "output_type": "error",
     "ename": "NameError",
     "evalue": "name 'v1' is not defined",
     "traceback": [
      "\u001b[1;31m---------------------------------------------------------------------------\u001b[0m",
      "\u001b[1;31mNameError\u001b[0m                                 Traceback (most recent call last)",
      "\u001b[1;32m<ipython-input-12-c42e42e4a057>\u001b[0m in \u001b[0;36m<module>\u001b[1;34m\u001b[0m\n\u001b[0;32m      1\u001b[0m \u001b[0mprint\u001b[0m\u001b[1;33m(\u001b[0m\u001b[1;34m'key1'\u001b[0m\u001b[1;33m,\u001b[0m \u001b[1;34m'key2'\u001b[0m\u001b[1;33m,\u001b[0m \u001b[1;34m'val'\u001b[0m\u001b[1;33m,\u001b[0m \u001b[0msep\u001b[0m\u001b[1;33m=\u001b[0m\u001b[1;34m'\\t'\u001b[0m\u001b[1;33m)\u001b[0m\u001b[1;33m\u001b[0m\u001b[1;33m\u001b[0m\u001b[0m\n\u001b[1;32m----> 2\u001b[1;33m \u001b[1;32mfor\u001b[0m \u001b[0mi\u001b[0m\u001b[1;33m,\u001b[0m \u001b[0mv1\u001b[0m \u001b[1;32min\u001b[0m \u001b[0mv1\u001b[0m\u001b[1;33m.\u001b[0m\u001b[0mitems\u001b[0m\u001b[1;33m(\u001b[0m\u001b[1;33m)\u001b[0m\u001b[1;33m:\u001b[0m\u001b[1;33m\u001b[0m\u001b[1;33m\u001b[0m\u001b[0m\n\u001b[0m\u001b[0;32m      3\u001b[0m     \u001b[0mprint\u001b[0m\u001b[1;33m(\u001b[0m\u001b[0mi\u001b[0m\u001b[1;33m,\u001b[0m \u001b[0mj\u001b[0m\u001b[1;33m,\u001b[0m \u001b[0mv2\u001b[0m\u001b[1;33m,\u001b[0m \u001b[0msep\u001b[0m\u001b[1;33m=\u001b[0m\u001b[1;34m'\\t'\u001b[0m\u001b[1;33m)\u001b[0m\u001b[1;33m\u001b[0m\u001b[1;33m\u001b[0m\u001b[0m\n",
      "\u001b[1;31mNameError\u001b[0m: name 'v1' is not defined"
     ]
    }
   ],
   "source": [
    "print('key1', 'key2', 'val', sep='\\t')\n",
    "for i, v1 in v1.items():\n",
    "    print(i, j, v2, sep='\\t')"
   ]
  },
  {
   "cell_type": "code",
   "execution_count": 13,
   "metadata": {},
   "outputs": [
    {
     "output_type": "error",
     "ename": "AttributeError",
     "evalue": "'dict' object has no attribute 'item'",
     "traceback": [
      "\u001b[1;31m---------------------------------------------------------------------------\u001b[0m",
      "\u001b[1;31mAttributeError\u001b[0m                            Traceback (most recent call last)",
      "\u001b[1;32m<ipython-input-13-7c103f9665e1>\u001b[0m in \u001b[0;36m<module>\u001b[1;34m\u001b[0m\n\u001b[0;32m     14\u001b[0m     \u001b[1;32mreturn\u001b[0m \u001b[0mmy_str\u001b[0m\u001b[1;33m\u001b[0m\u001b[1;33m\u001b[0m\u001b[0m\n\u001b[0;32m     15\u001b[0m \u001b[1;33m\u001b[0m\u001b[0m\n\u001b[1;32m---> 16\u001b[1;33m \u001b[1;32mfor\u001b[0m \u001b[0mkey1\u001b[0m\u001b[1;33m,\u001b[0m \u001b[0mval1\u001b[0m \u001b[1;32min\u001b[0m \u001b[0mcountry_code\u001b[0m\u001b[1;33m.\u001b[0m\u001b[0mitem\u001b[0m\u001b[1;33m(\u001b[0m\u001b[1;33m)\u001b[0m\u001b[1;33m:\u001b[0m\u001b[1;33m\u001b[0m\u001b[1;33m\u001b[0m\u001b[0m\n\u001b[0m\u001b[0;32m     17\u001b[0m     \u001b[0mprint\u001b[0m\u001b[1;33m(\u001b[0m\u001b[0mkey1\u001b[0m\u001b[1;33m,\u001b[0m \u001b[0mgetstr_keyval\u001b[0m\u001b[1;33m(\u001b[0m\u001b[0mval1\u001b[0m\u001b[1;33m)\u001b[0m\u001b[1;33m)\u001b[0m\u001b[1;33m\u001b[0m\u001b[1;33m\u001b[0m\u001b[0m\n",
      "\u001b[1;31mAttributeError\u001b[0m: 'dict' object has no attribute 'item'"
     ]
    }
   ],
   "source": [
    "country_code = {\n",
    "    'Iceland': {'code': 354, 'capital': 'Reykjavik'},\n",
    "    'Ireland': {'code': 353, 'capital': 'Dublin'},\n",
    "    'Azerbaidjan': {'code': 994, 'capital': 'Baku'}\n",
    "}\n",
    "\n",
    "def getstr_keyval(x):\n",
    "    if isinstance(x, dict):\n",
    "        return x\n",
    "\n",
    "    my_str = ''\n",
    "    for key, val in x.items():\n",
    "        my_str += (' ' + str(key) + ' ' + getstr_keyval(val))\n",
    "    return my_str\n",
    "\n",
    "for key1, val1 in country_code.item():\n",
    "    print(key1, getstr_keyval(val1))"
   ]
  },
  {
   "cell_type": "code",
   "execution_count": 14,
   "metadata": {},
   "outputs": [
    {
     "output_type": "execute_result",
     "data": {
      "text/plain": "[['01', '0001', 'Male', 'Yamada', 'Tarou', 25, 'Tokyo'],\n ['01', '0002', 'Male', 'Satou', 'Takeshi', 27, 'Kanagawa'],\n ['01', '0003', 'Female', 'Tanaka', 'Yuko', 25, 'Sairama'],\n ['02', '0001', 'Male', 'Smith', 'Mike', 22, 'NewJersey'],\n ['02', '0002', 'Male', 'Turner', 'Tom', 27, 'Kansas'],\n ['02', '0003', 'Male', 'Jackson', 'David', 22, 'Florida']]"
     },
     "metadata": {},
     "execution_count": 14
    }
   ],
   "source": [
    "data = [\n",
    "    ['01', '0001', 'Male', 'Yamada', 'Tarou', 25, 'Tokyo'],\n",
    "    ['01', '0002', 'Male', 'Satou', 'Takeshi', 27, 'Kanagawa'],\n",
    "    ['01', '0003', 'Female', 'Tanaka', 'Yuko', 25, 'Sairama'],\n",
    "    ['02', '0001', 'Male', 'Smith', 'Mike', 22, 'NewJersey'],\n",
    "    ['02', '0002', 'Male', 'Turner', 'Tom', 27, 'Kansas'],\n",
    "    ['02', '0003', 'Male', 'Jackson', 'David', 22, 'Florida']\n",
    "]\n",
    "data"
   ]
  },
  {
   "cell_type": "code",
   "execution_count": 15,
   "metadata": {},
   "outputs": [],
   "source": [
    "member_information = {}\n",
    "\n",
    "for record in data:\n",
    "    key = (record[0], record[1])\n",
    "    info = record[2:]\n",
    "    member_information[key] = info"
   ]
  },
  {
   "cell_type": "code",
   "execution_count": 16,
   "metadata": {
    "tags": []
   },
   "outputs": [
    {
     "output_type": "stream",
     "name": "stdout",
     "text": "number\tinformation\n('01', '0001') ['Male', 'Yamada', 'Tarou', 25, 'Tokyo']\n('01', '0002') ['Male', 'Satou', 'Takeshi', 27, 'Kanagawa']\n('01', '0003') ['Female', 'Tanaka', 'Yuko', 25, 'Sairama']\n('02', '0001') ['Male', 'Smith', 'Mike', 22, 'NewJersey']\n('02', '0002') ['Male', 'Turner', 'Tom', 27, 'Kansas']\n('02', '0003') ['Male', 'Jackson', 'David', 22, 'Florida']\n"
    }
   ],
   "source": [
    "print('number', 'information', sep='\\t')\n",
    "for key, info in member_information.items():\n",
    "    print(key, info)"
   ]
  },
  {
   "cell_type": "code",
   "execution_count": null,
   "metadata": {},
   "outputs": [],
   "source": []
  }
 ]
}