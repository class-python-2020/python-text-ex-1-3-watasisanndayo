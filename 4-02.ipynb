{
 "metadata": {
  "language_info": {
   "codemirror_mode": {
    "name": "ipython",
    "version": 3
   },
   "file_extension": ".py",
   "mimetype": "text/x-python",
   "name": "python",
   "nbconvert_exporter": "python",
   "pygments_lexer": "ipython3",
   "version": 3
  },
  "orig_nbformat": 2,
  "kernelspec": {
   "name": "python_defaultSpec_1595997709267",
   "display_name": "Python 3.8.2 32-bit"
  }
 },
 "nbformat": 4,
 "nbformat_minor": 2,
 "cells": [
  {
   "cell_type": "code",
   "execution_count": 1,
   "metadata": {},
   "outputs": [],
   "source": [
    "def house_for_rent(bedrooms, walk_min, house_type, rent_yen):\n",
    "    return {'bedrooms': bedrooms, 'walk_min': walk_min, 'house_type': house_type, 'rent_yen': rent_yen}"
   ]
  },
  {
   "cell_type": "code",
   "execution_count": 2,
   "metadata": {},
   "outputs": [
    {
     "output_type": "execute_result",
     "data": {
      "text/plain": "{'bedrooms': 2, 'walk_min': 15, 'house_type': 'アパート', 'rent_yen': 50}"
     },
     "metadata": {},
     "execution_count": 2
    }
   ],
   "source": [
    "house_for_rent(2, 15, 'アパート', 50)"
   ]
  },
  {
   "cell_type": "code",
   "execution_count": 3,
   "metadata": {},
   "outputs": [
    {
     "output_type": "execute_result",
     "data": {
      "text/plain": "{'bedrooms': 2, 'walk_min': 'マンション', 'house_type': 2, 'rent_yen': 100}"
     },
     "metadata": {},
     "execution_count": 3
    }
   ],
   "source": [
    "house_for_rent(2, 'マンション', 2, 100)"
   ]
  },
  {
   "cell_type": "code",
   "execution_count": 4,
   "metadata": {},
   "outputs": [
    {
     "output_type": "execute_result",
     "data": {
      "text/plain": "{'bedrooms': 2, 'walk_min': 2, 'house_type': 'マンション', 'rent_yen': 100}"
     },
     "metadata": {},
     "execution_count": 4
    }
   ],
   "source": [
    "house_for_rent(rent_yen = 100, walk_min = 2, bedrooms = 2, house_type = 'マンション')"
   ]
  },
  {
   "cell_type": "code",
   "execution_count": 5,
   "metadata": {},
   "outputs": [
    {
     "output_type": "error",
     "ename": "TypeError",
     "evalue": "house_for_rent() missing 4 required positional arguments: 'bedrooms', 'walk_min', 'house_type', and 'rent_yen'",
     "traceback": [
      "\u001b[1;31m---------------------------------------------------------------------------\u001b[0m",
      "\u001b[1;31mTypeError\u001b[0m                                 Traceback (most recent call last)",
      "\u001b[1;32m<ipython-input-5-b2c7062ef653>\u001b[0m in \u001b[0;36m<module>\u001b[1;34m\u001b[0m\n\u001b[1;32m----> 1\u001b[1;33m \u001b[0mhouse_for_rent\u001b[0m\u001b[1;33m(\u001b[0m\u001b[1;33m)\u001b[0m\u001b[1;33m\u001b[0m\u001b[1;33m\u001b[0m\u001b[0m\n\u001b[0m",
      "\u001b[1;31mTypeError\u001b[0m: house_for_rent() missing 4 required positional arguments: 'bedrooms', 'walk_min', 'house_type', and 'rent_yen'"
     ]
    }
   ],
   "source": [
    "house_for_rent()"
   ]
  },
  {
   "cell_type": "code",
   "execution_count": 6,
   "metadata": {},
   "outputs": [],
   "source": [
    "def house_for_rent(bedrooms = 2, walk_min = 6, house_type = 'アパート', rent_yen = 50):\n",
    "        return {'bedrooms': bedrooms, 'walk_min': walk_min, 'house_type': house_type, 'rent_yen': rent_yen}"
   ]
  },
  {
   "cell_type": "code",
   "execution_count": 7,
   "metadata": {},
   "outputs": [
    {
     "output_type": "execute_result",
     "data": {
      "text/plain": "{'bedrooms': 2, 'walk_min': 6, 'house_type': 'アパート', 'rent_yen': 50}"
     },
     "metadata": {},
     "execution_count": 7
    }
   ],
   "source": [
    "house_for_rent()"
   ]
  },
  {
   "cell_type": "code",
   "execution_count": 8,
   "metadata": {},
   "outputs": [
    {
     "output_type": "execute_result",
     "data": {
      "text/plain": "{'bedrooms': 5, 'walk_min': 6, 'house_type': 'マンション', 'rent_yen': 50}"
     },
     "metadata": {},
     "execution_count": 8
    }
   ],
   "source": [
    "house_for_rent(5, house_type = 'マンション')"
   ]
  },
  {
   "cell_type": "code",
   "execution_count": 9,
   "metadata": {},
   "outputs": [
    {
     "output_type": "error",
     "ename": "SyntaxError",
     "evalue": "positional argument follows keyword argument (<ipython-input-9-312b88598cde>, line 1)",
     "traceback": [
      "\u001b[1;36m  File \u001b[1;32m\"<ipython-input-9-312b88598cde>\"\u001b[1;36m, line \u001b[1;32m1\u001b[0m\n\u001b[1;33m    house_for_rent(house_type = 'マンション', 5)\u001b[0m\n\u001b[1;37m                                           \n^\u001b[0m\n\u001b[1;31mSyntaxError\u001b[0m\u001b[1;31m:\u001b[0m positional argument follows keyword argument\n"
     ]
    }
   ],
   "source": [
    "house_for_rent(house_type = 'マンション', 5)"
   ]
  },
  {
   "cell_type": "code",
   "execution_count": 11,
   "metadata": {},
   "outputs": [],
   "source": [
    "def number_to_day(num = 0):\n",
    "    '''任意の整数が与えられたら今日、昨日、明日、それ以外を判定して返す\n",
    "    戻り値\n",
    "        昨日(num = -1)\n",
    "        今日(num = 0)\n",
    "        明日(num = 1)\n",
    "        今日より1日を超えて離れた日(numが上記以外)\n",
    "    '''\n",
    "    if num == 0:\n",
    "        day = '今日'\n",
    "    elif num == 1:\n",
    "        day = '明日'\n",
    "    elif num == -1:\n",
    "        day = '昨日'\n",
    "    else:\n",
    "        day = '今日より1日を超えて離れた日'\n",
    "    return day"
   ]
  },
  {
   "cell_type": "code",
   "execution_count": 12,
   "metadata": {},
   "outputs": [
    {
     "output_type": "execute_result",
     "data": {
      "text/plain": "'今日'"
     },
     "metadata": {},
     "execution_count": 12
    }
   ],
   "source": [
    "number_to_day()"
   ]
  },
  {
   "cell_type": "code",
   "execution_count": 13,
   "metadata": {},
   "outputs": [
    {
     "output_type": "execute_result",
     "data": {
      "text/plain": "'明日'"
     },
     "metadata": {},
     "execution_count": 13
    }
   ],
   "source": [
    "number_to_day(1)"
   ]
  },
  {
   "cell_type": "code",
   "execution_count": 15,
   "metadata": {},
   "outputs": [
    {
     "output_type": "execute_result",
     "data": {
      "text/plain": "'今日より1日を超えて離れた日'"
     },
     "metadata": {},
     "execution_count": 15
    }
   ],
   "source": [
    "number_to_day(num = 3)"
   ]
  },
  {
   "cell_type": "code",
   "execution_count": 18,
   "metadata": {
    "tags": []
   },
   "outputs": [
    {
     "output_type": "stream",
     "name": "stdout",
     "text": "Help on function number_to_day in module __main__:\n\nnumber_to_day(num=0)\n\n"
    }
   ],
   "source": [
    "help(number_to_day)"
   ]
  },
  {
   "cell_type": "code",
   "execution_count": 19,
   "metadata": {},
   "outputs": [],
   "source": [
    "def perrin(m = 100):\n",
    "    a, b, c = 3, 0, 2\n",
    "    result = []\n",
    "    while a < m:\n",
    "        result.append(a)\n",
    "        a, b, c = b, c, a + b\n",
    "    return result"
   ]
  },
  {
   "cell_type": "code",
   "execution_count": 20,
   "metadata": {},
   "outputs": [
    {
     "output_type": "execute_result",
     "data": {
      "text/plain": "[3, 0, 2, 3, 2, 5, 5, 7, 10, 12, 17, 22, 29, 39, 51, 68, 90]"
     },
     "metadata": {},
     "execution_count": 20
    }
   ],
   "source": [
    "perrin()"
   ]
  },
  {
   "cell_type": "code",
   "execution_count": null,
   "metadata": {},
   "outputs": [],
   "source": []
  }
 ]
}