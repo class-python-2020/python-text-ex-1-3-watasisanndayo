{
 "metadata": {
  "language_info": {
   "codemirror_mode": {
    "name": "ipython",
    "version": 3
   },
   "file_extension": ".py",
   "mimetype": "text/x-python",
   "name": "python",
   "nbconvert_exporter": "python",
   "pygments_lexer": "ipython3",
   "version": "3.8.2-final"
  },
  "orig_nbformat": 2,
  "kernelspec": {
   "name": "python_defaultSpec_1597649610172",
   "display_name": "Python 3.8.2 32-bit"
  }
 },
 "nbformat": 4,
 "nbformat_minor": 2,
 "cells": [
  {
   "cell_type": "code",
   "execution_count": 1,
   "metadata": {},
   "outputs": [
    {
     "output_type": "execute_result",
     "data": {
      "text/plain": "[4, 9, 25, 49, 121, 169]"
     },
     "metadata": {},
     "execution_count": 1
    }
   ],
   "source": [
    "prime = [2, 3, 5, 7, 11, 13]\n",
    "prime_square = [x**2 for x in prime]\n",
    "prime_square"
   ]
  },
  {
   "cell_type": "code",
   "execution_count": 2,
   "metadata": {},
   "outputs": [
    {
     "output_type": "execute_result",
     "data": {
      "text/plain": "[1, 2, 3, 4, 5, 6, 7, 8, 9, 2, 4, 6, 8, 10, 12, 14, 16, 18]"
     },
     "metadata": {},
     "execution_count": 2
    }
   ],
   "source": [
    "multiplication = [i * j for i in range(1, 3) for j in range(1, 10)]\n",
    "multiplication"
   ]
  },
  {
   "cell_type": "code",
   "execution_count": 3,
   "metadata": {},
   "outputs": [],
   "source": [
    "mat = [\n",
    "    [1, 2, 3, 4],\n",
    "    [5, 6, 7, 8]\n",
    "]"
   ]
  },
  {
   "cell_type": "code",
   "execution_count": 4,
   "metadata": {},
   "outputs": [
    {
     "output_type": "execute_result",
     "data": {
      "text/plain": "[[1, 2, 3, 4], [5, 6, 7, 8]]"
     },
     "metadata": {},
     "execution_count": 4
    }
   ],
   "source": [
    "I = 2\n",
    "J = 4\n",
    "mat = [[i * J + j + 1 for j in range(J)] for i in range(I)]\n",
    "mat"
   ]
  },
  {
   "cell_type": "code",
   "execution_count": 5,
   "metadata": {},
   "outputs": [
    {
     "output_type": "execute_result",
     "data": {
      "text/plain": "[121, 169]"
     },
     "metadata": {},
     "execution_count": 5
    }
   ],
   "source": [
    "prime = [2, 3, 5, 7, 11, 13]\n",
    "prime_square = [x**2 for x in prime if x**2 > 100]\n",
    "prime_square"
   ]
  },
  {
   "cell_type": "code",
   "execution_count": 6,
   "metadata": {},
   "outputs": [
    {
     "output_type": "execute_result",
     "data": {
      "text/plain": "[1, 2, 3]"
     },
     "metadata": {},
     "execution_count": 6
    }
   ],
   "source": [
    "name_list = [('yamada', 20), ('satou', 35), ('tanaka', 50), ('suzuki', 40)]\n",
    "[i for i in range(len(name_list)) if name_list[i][1] >= 30]"
   ]
  },
  {
   "cell_type": "code",
   "execution_count": 7,
   "metadata": {
    "tags": []
   },
   "outputs": [
    {
     "output_type": "stream",
     "name": "stdout",
     "text": "[3, 8]\n"
    }
   ],
   "source": [
    "num = [[1, 2, 3, 4, 5],\n",
    "       [6, 7, 8, 9, 10]]\n",
    "col = [row[2] for row in num]\n",
    "print(col)"
   ]
  },
  {
   "cell_type": "code",
   "execution_count": 8,
   "metadata": {},
   "outputs": [
    {
     "output_type": "execute_result",
     "data": {
      "text/plain": "[None, 2, None, 4, None, 6, None, 8, None]"
     },
     "metadata": {},
     "execution_count": 8
    }
   ],
   "source": [
    "list1 = [1, 2, 3, 4, 5, 6, 7, 8, 9]\n",
    "[x if x%2==0 else None for x in list1]"
   ]
  },
  {
   "cell_type": "code",
   "execution_count": 9,
   "metadata": {},
   "outputs": [
    {
     "output_type": "execute_result",
     "data": {
      "text/plain": "[0, 0, 1, 0, 2, 4]"
     },
     "metadata": {},
     "execution_count": 9
    }
   ],
   "source": [
    "[x * y for x in range(3) for y in range(x+1)]"
   ]
  },
  {
   "cell_type": "code",
   "execution_count": 10,
   "metadata": {
    "tags": []
   },
   "outputs": [
    {
     "output_type": "stream",
     "name": "stdout",
     "text": "x\ty\tx*y\n0\t0\t0\n1\t0\t0\n1\t1\t1\n2\t0\t0\n2\t1\t2\n2\t2\t4\n"
    }
   ],
   "source": [
    "print('x', 'y', 'x*y', sep = '\\t')\n",
    "for x in range(3):\n",
    "    for y in range(x+1):\n",
    "        print(x, y, x*y, sep = '\\t')"
   ]
  },
  {
   "cell_type": "code",
   "execution_count": 12,
   "metadata": {},
   "outputs": [
    {
     "output_type": "execute_result",
     "data": {
      "text/plain": "[None, None, None, None, 121, 169]"
     },
     "metadata": {},
     "execution_count": 12
    }
   ],
   "source": [
    "prime = [2, 3, 5, 7, 11, 13]\n",
    "prime_square = [x**2 if x**2 > 100 else None for x in prime]\n",
    "prime_square"
   ]
  },
  {
   "cell_type": "code",
   "execution_count": 13,
   "metadata": {},
   "outputs": [
    {
     "output_type": "execute_result",
     "data": {
      "text/plain": "['other', 'x is 1', 'x is 2']"
     },
     "metadata": {},
     "execution_count": 13
    }
   ],
   "source": [
    "['x is 2' if x == 2 else 'x is 1' if x == 1 else 'other' for x in range(3)]"
   ]
  },
  {
   "cell_type": "code",
   "execution_count": 14,
   "metadata": {
    "tags": []
   },
   "outputs": [
    {
     "output_type": "stream",
     "name": "stdout",
     "text": "2.36 ms ± 701 µs per loop (mean ± std. dev. of 7 runs, 100 loops each)\n"
    }
   ],
   "source": [
    "%%timeit\n",
    "def for_list(X):\n",
    "    x = []\n",
    "    for i in range(X):\n",
    "        x.append(i*i)\n",
    "    return x\n",
    "\n",
    "for_list(10000)"
   ]
  },
  {
   "cell_type": "code",
   "execution_count": 15,
   "metadata": {
    "tags": []
   },
   "outputs": [
    {
     "output_type": "stream",
     "name": "stdout",
     "text": "1.32 ms ± 231 µs per loop (mean ± std. dev. of 7 runs, 1000 loops each)\n"
    }
   ],
   "source": [
    "%%timeit\n",
    "def comprehension_list(X):\n",
    "    return [i*i for i in range(X)]\n",
    "\n",
    "comprehension_list(10000)"
   ]
  },
  {
   "cell_type": "code",
   "execution_count": null,
   "metadata": {},
   "outputs": [],
   "source": []
  }
 ]
}