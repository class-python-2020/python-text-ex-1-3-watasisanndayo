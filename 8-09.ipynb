{
 "metadata": {
  "language_info": {
   "codemirror_mode": {
    "name": "ipython",
    "version": 3
   },
   "file_extension": ".py",
   "mimetype": "text/x-python",
   "name": "python",
   "nbconvert_exporter": "python",
   "pygments_lexer": "ipython3",
   "version": "3.8.2-final"
  },
  "orig_nbformat": 2,
  "kernelspec": {
   "name": "python_defaultSpec_1598156017860",
   "display_name": "Python 3.8.2 32-bit"
  }
 },
 "nbformat": 4,
 "nbformat_minor": 2,
 "cells": [
  {
   "cell_type": "code",
   "execution_count": 1,
   "metadata": {},
   "outputs": [
    {
     "output_type": "execute_result",
     "data": {
      "text/plain": "0.30000000000000004"
     },
     "metadata": {},
     "execution_count": 1
    }
   ],
   "source": [
    "0.1 * 3"
   ]
  },
  {
   "cell_type": "code",
   "execution_count": 2,
   "metadata": {},
   "outputs": [
    {
     "output_type": "execute_result",
     "data": {
      "text/plain": "False"
     },
     "metadata": {},
     "execution_count": 2
    }
   ],
   "source": [
    "0.1 * 3 == 0.3"
   ]
  },
  {
   "cell_type": "code",
   "execution_count": 3,
   "metadata": {},
   "outputs": [],
   "source": [
    "from decimal import Decimal"
   ]
  },
  {
   "cell_type": "code",
   "execution_count": 4,
   "metadata": {
    "tags": []
   },
   "outputs": [
    {
     "output_type": "stream",
     "name": "stdout",
     "text": "0.1 0.3\n"
    },
    {
     "output_type": "execute_result",
     "data": {
      "text/plain": "(Decimal('0.1'), Decimal('0.3'))"
     },
     "metadata": {},
     "execution_count": 4
    }
   ],
   "source": [
    "d0 = Decimal('0.1')\n",
    "print(d0, d0 * 3)\n",
    "d0, d0 * 3"
   ]
  },
  {
   "cell_type": "code",
   "execution_count": 5,
   "metadata": {},
   "outputs": [
    {
     "output_type": "execute_result",
     "data": {
      "text/plain": "True"
     },
     "metadata": {},
     "execution_count": 5
    }
   ],
   "source": [
    "Decimal('0.1') * 3 == Decimal('0.3')"
   ]
  },
  {
   "cell_type": "code",
   "execution_count": 6,
   "metadata": {
    "tags": []
   },
   "outputs": [
    {
     "output_type": "stream",
     "name": "stdout",
     "text": "0.1000000000000000055511151231257827021181583404541015625 0.3000000000000000166533453694\n"
    },
    {
     "output_type": "execute_result",
     "data": {
      "text/plain": "(Decimal('0.1000000000000000055511151231257827021181583404541015625'),\n Decimal('0.3000000000000000166533453694'))"
     },
     "metadata": {},
     "execution_count": 6
    }
   ],
   "source": [
    "d1 = Decimal(0.1)\n",
    "print(d1, d1 * 3)\n",
    "d1, d1 * 3"
   ]
  },
  {
   "cell_type": "code",
   "execution_count": 7,
   "metadata": {
    "tags": []
   },
   "outputs": [
    {
     "output_type": "stream",
     "name": "stdout",
     "text": "3.14 -1.414\n"
    },
    {
     "output_type": "execute_result",
     "data": {
      "text/plain": "(Decimal('3.14'), Decimal('-1.414'))"
     },
     "metadata": {},
     "execution_count": 7
    }
   ],
   "source": [
    "deci_pi = Decimal((0, (3, 1, 4), -2))\n",
    "n_sqrt_2 = Decimal((1, (1, 4, 1, 4), -3))\n",
    "\n",
    "print(deci_pi, n_sqrt_2)\n",
    "deci_pi, n_sqrt_2"
   ]
  },
  {
   "cell_type": "code",
   "execution_count": 8,
   "metadata": {},
   "outputs": [],
   "source": [
    "from decimal import Decimal, getcontext, FloatOperation\n",
    "getcontext().traps[FloatOperation] = True"
   ]
  },
  {
   "cell_type": "code",
   "execution_count": 9,
   "metadata": {},
   "outputs": [
    {
     "output_type": "error",
     "ename": "FloatOperation",
     "evalue": "[<class 'decimal.FloatOperation'>]",
     "traceback": [
      "\u001b[1;31m---------------------------------------------------------------------------\u001b[0m",
      "\u001b[1;31mFloatOperation\u001b[0m                            Traceback (most recent call last)",
      "\u001b[1;32m<ipython-input-9-491c22c78e66>\u001b[0m in \u001b[0;36m<module>\u001b[1;34m\u001b[0m\n\u001b[1;32m----> 1\u001b[1;33m \u001b[0mDecimal\u001b[0m\u001b[1;33m(\u001b[0m\u001b[1;36m0.1\u001b[0m\u001b[1;33m)\u001b[0m\u001b[1;33m\u001b[0m\u001b[1;33m\u001b[0m\u001b[0m\n\u001b[0m",
      "\u001b[1;31mFloatOperation\u001b[0m: [<class 'decimal.FloatOperation'>]"
     ]
    }
   ],
   "source": [
    "Decimal(0.1)"
   ]
  },
  {
   "cell_type": "code",
   "execution_count": 10,
   "metadata": {},
   "outputs": [
    {
     "output_type": "execute_result",
     "data": {
      "text/plain": "Decimal('2.500')"
     },
     "metadata": {},
     "execution_count": 10
    }
   ],
   "source": [
    "Decimal('1.300') + Decimal('1.200')"
   ]
  },
  {
   "cell_type": "code",
   "execution_count": 11,
   "metadata": {
    "tags": []
   },
   "outputs": [
    {
     "output_type": "stream",
     "name": "stdout",
     "text": "2.500\n"
    }
   ],
   "source": [
    "print(Decimal('1.300') + Decimal('1.200'))"
   ]
  },
  {
   "cell_type": "code",
   "execution_count": 12,
   "metadata": {},
   "outputs": [
    {
     "output_type": "execute_result",
     "data": {
      "text/plain": "Decimal('1.56')"
     },
     "metadata": {},
     "execution_count": 12
    }
   ],
   "source": [
    "Decimal('1.3') * Decimal('1.2')"
   ]
  },
  {
   "cell_type": "code",
   "execution_count": 13,
   "metadata": {},
   "outputs": [
    {
     "output_type": "execute_result",
     "data": {
      "text/plain": "Decimal('1.5600')"
     },
     "metadata": {},
     "execution_count": 13
    }
   ],
   "source": [
    "Decimal('1.30') * Decimal('1.20')"
   ]
  },
  {
   "cell_type": "code",
   "execution_count": 14,
   "metadata": {
    "tags": []
   },
   "outputs": [
    {
     "output_type": "stream",
     "name": "stdout",
     "text": "Context(prec=28, rounding=ROUND_HALF_EVEN, Emin=-999999, Emax=999999, capitals=1, clamp=0, flags=[Inexact, FloatOperation, Rounded], traps=[InvalidOperation, DivisionByZero, FloatOperation, Overflow])\n"
    },
    {
     "output_type": "execute_result",
     "data": {
      "text/plain": "Decimal('0.1428571428571428571428571429')"
     },
     "metadata": {},
     "execution_count": 14
    }
   ],
   "source": [
    "from decimal import Decimal, getcontext\n",
    "print(getcontext())\n",
    "Decimal(1) / Decimal(7)"
   ]
  },
  {
   "cell_type": "code",
   "execution_count": 15,
   "metadata": {},
   "outputs": [
    {
     "output_type": "execute_result",
     "data": {
      "text/plain": "Decimal('0.142857')"
     },
     "metadata": {},
     "execution_count": 15
    }
   ],
   "source": [
    "getcontext().prec = 6\n",
    "Decimal(1) / Decimal(7)"
   ]
  },
  {
   "cell_type": "code",
   "execution_count": 16,
   "metadata": {},
   "outputs": [
    {
     "output_type": "execute_result",
     "data": {
      "text/plain": "Decimal('0.142857142857142857142857142857142857142857')"
     },
     "metadata": {},
     "execution_count": 16
    }
   ],
   "source": [
    "getcontext().prec = 42\n",
    "Decimal(1) / Decimal(7)"
   ]
  },
  {
   "cell_type": "code",
   "execution_count": 17,
   "metadata": {},
   "outputs": [
    {
     "output_type": "execute_result",
     "data": {
      "text/plain": "Decimal('7.32')"
     },
     "metadata": {},
     "execution_count": 17
    }
   ],
   "source": [
    "from decimal import ROUND_DOWN\n",
    "Decimal('7.325').quantize(Decimal('.01'), rounding=ROUND_DOWN)"
   ]
  },
  {
   "cell_type": "code",
   "execution_count": 18,
   "metadata": {},
   "outputs": [
    {
     "output_type": "execute_result",
     "data": {
      "text/plain": "Decimal('7.33')"
     },
     "metadata": {},
     "execution_count": 18
    }
   ],
   "source": [
    "from decimal import ROUND_HALF_UP\n",
    "Decimal('7.325').quantize(Decimal('.01'), rounding=ROUND_HALF_UP)"
   ]
  },
  {
   "cell_type": "code",
   "execution_count": 19,
   "metadata": {},
   "outputs": [
    {
     "output_type": "execute_result",
     "data": {
      "text/plain": "Decimal('1.414213562373095048801688724')"
     },
     "metadata": {},
     "execution_count": 19
    }
   ],
   "source": [
    "getcontext().prec = 28\n",
    "Decimal('2').sqrt()"
   ]
  },
  {
   "cell_type": "code",
   "execution_count": 20,
   "metadata": {},
   "outputs": [
    {
     "output_type": "execute_result",
     "data": {
      "text/plain": "Decimal('2.718281828459045235360287471')"
     },
     "metadata": {},
     "execution_count": 20
    }
   ],
   "source": [
    "Decimal('1').exp()"
   ]
  },
  {
   "cell_type": "code",
   "execution_count": 21,
   "metadata": {},
   "outputs": [
    {
     "output_type": "execute_result",
     "data": {
      "text/plain": "Decimal('2.302585092994045684017991455')"
     },
     "metadata": {},
     "execution_count": 21
    }
   ],
   "source": [
    "Decimal('10').ln()"
   ]
  },
  {
   "cell_type": "code",
   "execution_count": 22,
   "metadata": {},
   "outputs": [
    {
     "output_type": "execute_result",
     "data": {
      "text/plain": "Decimal('1')"
     },
     "metadata": {},
     "execution_count": 22
    }
   ],
   "source": [
    "Decimal('10').log10()"
   ]
  },
  {
   "cell_type": "code",
   "execution_count": 23,
   "metadata": {},
   "outputs": [
    {
     "output_type": "execute_result",
     "data": {
      "text/plain": "7.629394531138978e-07"
     },
     "metadata": {},
     "execution_count": 23
    }
   ],
   "source": [
    "diff = 10000000000.2 - 10000000000\n",
    "diff - 0.2"
   ]
  },
  {
   "cell_type": "code",
   "execution_count": 24,
   "metadata": {},
   "outputs": [
    {
     "output_type": "execute_result",
     "data": {
      "text/plain": "Decimal('0.0')"
     },
     "metadata": {},
     "execution_count": 24
    }
   ],
   "source": [
    "diff_d = Decimal(\"10_000_000_000.2\") - Decimal(\"10_000_000_000\")\n",
    "diff_d - Decimal(\"0.2\")"
   ]
  },
  {
   "cell_type": "code",
   "execution_count": 25,
   "metadata": {
    "tags": []
   },
   "outputs": [
    {
     "output_type": "stream",
     "name": "stdout",
     "text": "0.20000076293945312\n0.2\n"
    }
   ],
   "source": [
    "from decimal import Decimal\n",
    "diff = 10000000000.2 - 10000000000\n",
    "diff_d = Decimal(\"10000000000.2\") - Decimal(\"10000000000\")\n",
    "print(diff)\n",
    "print(diff_d)"
   ]
  },
  {
   "cell_type": "code",
   "execution_count": 26,
   "metadata": {},
   "outputs": [
    {
     "output_type": "execute_result",
     "data": {
      "text/plain": "-5.551115123125783e-17"
     },
     "metadata": {},
     "execution_count": 26
    }
   ],
   "source": [
    "a0 = 1.2 - 1.0\n",
    "a0 - 0.2"
   ]
  },
  {
   "cell_type": "code",
   "execution_count": 27,
   "metadata": {},
   "outputs": [
    {
     "output_type": "execute_result",
     "data": {
      "text/plain": "4.546363285840016e-14"
     },
     "metadata": {},
     "execution_count": 27
    }
   ],
   "source": [
    "a1 = 1000.2 - 1000.0\n",
    "a1 - 0.2"
   ]
  },
  {
   "cell_type": "code",
   "execution_count": 28,
   "metadata": {},
   "outputs": [
    {
     "output_type": "execute_result",
     "data": {
      "text/plain": "7.629394531138978e-07"
     },
     "metadata": {},
     "execution_count": 28
    }
   ],
   "source": [
    "a5 = 10_000_000_000.2 - 10_000_000_000\n",
    "a5 - 0.2"
   ]
  },
  {
   "cell_type": "code",
   "execution_count": 29,
   "metadata": {},
   "outputs": [
    {
     "output_type": "execute_result",
     "data": {
      "text/plain": "0.0"
     },
     "metadata": {},
     "execution_count": 29
    }
   ],
   "source": [
    "a6 = 10_000_000_002.0 - 10_000_000_000.0\n",
    "a6 - 2"
   ]
  },
  {
   "cell_type": "code",
   "execution_count": null,
   "metadata": {},
   "outputs": [],
   "source": []
  }
 ]
}