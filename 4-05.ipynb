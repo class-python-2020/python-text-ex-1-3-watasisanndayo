{
 "metadata": {
  "language_info": {
   "codemirror_mode": {
    "name": "ipython",
    "version": 3
   },
   "file_extension": ".py",
   "mimetype": "text/x-python",
   "name": "python",
   "nbconvert_exporter": "python",
   "pygments_lexer": "ipython3",
   "version": 3
  },
  "orig_nbformat": 2,
  "kernelspec": {
   "name": "python_defaultSpec_1597501574609",
   "display_name": "Python 3.8.2 32-bit"
  }
 },
 "nbformat": 4,
 "nbformat_minor": 2,
 "cells": [
  {
   "cell_type": "code",
   "execution_count": 1,
   "metadata": {},
   "outputs": [
    {
     "output_type": "execute_result",
     "data": {
      "text/plain": "10"
     },
     "metadata": {},
     "execution_count": 1
    }
   ],
   "source": [
    "sum([1,2,3,4])"
   ]
  },
  {
   "cell_type": "code",
   "execution_count": 2,
   "metadata": {},
   "outputs": [
    {
     "output_type": "execute_result",
     "data": {
      "text/plain": "45"
     },
     "metadata": {},
     "execution_count": 2
    }
   ],
   "source": [
    "sum(range(10))"
   ]
  },
  {
   "cell_type": "code",
   "execution_count": 3,
   "metadata": {},
   "outputs": [
    {
     "output_type": "execute_result",
     "data": {
      "text/plain": "10"
     },
     "metadata": {},
     "execution_count": 3
    }
   ],
   "source": [
    "add_all = sum\n",
    "add_all([1,2,3,4])"
   ]
  },
  {
   "cell_type": "code",
   "execution_count": 4,
   "metadata": {},
   "outputs": [
    {
     "output_type": "execute_result",
     "data": {
      "text/plain": "45"
     },
     "metadata": {},
     "execution_count": 4
    }
   ],
   "source": [
    "add_all(range(10))"
   ]
  },
  {
   "cell_type": "code",
   "execution_count": 5,
   "metadata": {},
   "outputs": [],
   "source": [
    "def say_hello():\n",
    "    print('こんにちは')"
   ]
  },
  {
   "cell_type": "code",
   "execution_count": 6,
   "metadata": {
    "tags": []
   },
   "outputs": [
    {
     "output_type": "stream",
     "name": "stdout",
     "text": "こんにちは\n"
    }
   ],
   "source": [
    "say_hello()"
   ]
  },
  {
   "cell_type": "code",
   "execution_count": 7,
   "metadata": {},
   "outputs": [],
   "source": [
    "def run_any_func(func):\n",
    "    for i in range(2):\n",
    "        func()"
   ]
  },
  {
   "cell_type": "code",
   "execution_count": 8,
   "metadata": {
    "tags": []
   },
   "outputs": [
    {
     "output_type": "stream",
     "name": "stdout",
     "text": "こんにちは\nこんにちは\n"
    }
   ],
   "source": [
    "run_any_func(say_hello)"
   ]
  },
  {
   "cell_type": "code",
   "execution_count": 9,
   "metadata": {},
   "outputs": [],
   "source": [
    "def multi_func(number):\n",
    "    if number == 0:\n",
    "        print('min', end = ' ')\n",
    "        return min\n",
    "    if number == 1:\n",
    "        print('max', end = ' ')\n",
    "        return max\n",
    "    else:\n",
    "        print('sum', end = ' ')\n",
    "        return sum"
   ]
  },
  {
   "cell_type": "code",
   "execution_count": 10,
   "metadata": {
    "tags": []
   },
   "outputs": [
    {
     "output_type": "stream",
     "name": "stdout",
     "text": "min 1\nmax 4\nsum 10\n"
    }
   ],
   "source": [
    "num_list = [1,2,3,4]\n",
    "for i in [0, 1, 2]:\n",
    "    func = multi_func(i)\n",
    "    print(func(num_list))"
   ]
  },
  {
   "cell_type": "code",
   "execution_count": 11,
   "metadata": {
    "tags": []
   },
   "outputs": [
    {
     "output_type": "stream",
     "name": "stdout",
     "text": "min 1\nmax 4\nsum 10\n"
    }
   ],
   "source": [
    "num_list = [1, 2, 3, 4]\n",
    "for i in [0, 1, 2]:\n",
    "    print(multi_func(i)(num_list))"
   ]
  },
  {
   "cell_type": "code",
   "execution_count": 12,
   "metadata": {},
   "outputs": [],
   "source": [
    "functions = [sum, min, max]"
   ]
  },
  {
   "cell_type": "code",
   "execution_count": 13,
   "metadata": {},
   "outputs": [
    {
     "output_type": "execute_result",
     "data": {
      "text/plain": "[1, 2, 3, 4, 5, 6, 7, 8, 9, 10]"
     },
     "metadata": {},
     "execution_count": 13
    }
   ],
   "source": [
    "numbers = range(1, 11)\n",
    "list(numbers)"
   ]
  },
  {
   "cell_type": "code",
   "execution_count": 14,
   "metadata": {
    "tags": []
   },
   "outputs": [
    {
     "output_type": "stream",
     "name": "stdout",
     "text": "Function: sum, Result: 55\nFunction: min, Result: 1\nFunction: max, Result: 10\n"
    }
   ],
   "source": [
    "functions = [sum, min, max]\n",
    "number_list = range(1, 11)\n",
    "for func in functions:\n",
    "    print('Function: {}, Result: {}'.format(       \n",
    "        func.__name__, func(number_list)))"
   ]
  },
  {
   "cell_type": "code",
   "execution_count": 15,
   "metadata": {},
   "outputs": [],
   "source": [
    "s_coordi_list = ['1.0, 2.2, 3.5', '2.1, 3.2, 5.5', '1.2, 1.3, 2.2', '2.1, 3.1, 4.5']"
   ]
  },
  {
   "cell_type": "code",
   "execution_count": 16,
   "metadata": {},
   "outputs": [],
   "source": [
    "f_coordi_list = [[1.0, 2.2, 3.5], [2.1, 3.2, 5.5], [1.2, 1.3, 2.2], [2.1, 3.1, 4.5]]"
   ]
  },
  {
   "cell_type": "code",
   "execution_count": 17,
   "metadata": {},
   "outputs": [
    {
     "output_type": "execute_result",
     "data": {
      "text/plain": "['1.0', ' 2.2', ' 3.5']"
     },
     "metadata": {},
     "execution_count": 17
    }
   ],
   "source": [
    "s_coordi = '1.0, 2.2, 3.5'\n",
    "s_coordi.split(',')"
   ]
  },
  {
   "cell_type": "code",
   "execution_count": 18,
   "metadata": {},
   "outputs": [],
   "source": [
    "s_num = '1.0'\n",
    "f_num = float(s_num)"
   ]
  },
  {
   "cell_type": "code",
   "execution_count": 19,
   "metadata": {
    "tags": []
   },
   "outputs": [
    {
     "output_type": "stream",
     "name": "stdout",
     "text": "<class 'str'> 1.0\n<class 'float'> 1.0\n"
    },
    {
     "output_type": "execute_result",
     "data": {
      "text/plain": "['1.0', 1.0]"
     },
     "metadata": {},
     "execution_count": 19
    }
   ],
   "source": [
    "print(type(s_num), s_num)\n",
    "print(type(f_num), f_num)\n",
    "[s_num, f_num]"
   ]
  },
  {
   "cell_type": "code",
   "execution_count": 20,
   "metadata": {
    "tags": []
   },
   "outputs": [
    {
     "output_type": "stream",
     "name": "stdout",
     "text": "2 4 6 8 10 12 14"
    }
   ],
   "source": [
    "num_list = list(range(1, 8))\n",
    "\n",
    "def double(x):\n",
    "    return x * 2\n",
    "\n",
    "for e in map(double, num_list):\n",
    "    print(e, end = ' ')"
   ]
  },
  {
   "cell_type": "code",
   "execution_count": 21,
   "metadata": {},
   "outputs": [
    {
     "output_type": "execute_result",
     "data": {
      "text/plain": "<map at 0x5f2f10>"
     },
     "metadata": {},
     "execution_count": 21
    }
   ],
   "source": [
    "map(double, num_list)"
   ]
  },
  {
   "cell_type": "code",
   "execution_count": 22,
   "metadata": {},
   "outputs": [
    {
     "output_type": "execute_result",
     "data": {
      "text/plain": "[2, 4, 6, 8, 10, 12, 14]"
     },
     "metadata": {},
     "execution_count": 22
    }
   ],
   "source": [
    "list(map(double, num_list))"
   ]
  },
  {
   "cell_type": "code",
   "execution_count": 23,
   "metadata": {
    "tags": []
   },
   "outputs": [
    {
     "output_type": "stream",
     "name": "stdout",
     "text": "[[1.0, 2.2, 3.5], [2.1, 3.2, 5.5], [1.2, 1.3, 2.2], [2.1, 3.1, 4.5]]\n"
    }
   ],
   "source": [
    "s_coordi_list = ['1.0, 2.2, 3.5', '2.1, 3.2, 5.5', '1.2, 1.3, 2.2', '2.1, 3.1, 4.5']\n",
    "\n",
    "def str_to_float_coordi(s_coordi):\n",
    "    p = s_coordi.split(',')\n",
    "    return list(map(float, p))\n",
    "\n",
    "def str_to_float_coordi_iter(s_coordi_list):\n",
    "    return map(str_to_float_coordi, s_coordi_list)\n",
    "\n",
    "f_coordi_list = list(str_to_float_coordi_iter(s_coordi_list))\n",
    "print(f_coordi_list)"
   ]
  },
  {
   "cell_type": "code",
   "execution_count": 24,
   "metadata": {
    "tags": []
   },
   "outputs": [
    {
     "output_type": "stream",
     "name": "stdout",
     "text": "[[1.0, 2.2, 3.5], [2.1, 3.2, 5.5], [1.2, 1.3, 2.2], [2.1, 3.1, 4.5]]\n"
    }
   ],
   "source": [
    "s_coordi_list = ['1.0, 2.2, 3.5', '2.1, 3.2, 5.5', '1.2, 1.3, 2.2', '2.1, 3.1, 4.5']\n",
    "\n",
    "def str_to_float_coordi(s_coordi):\n",
    "    p = s_coordi.split(',')\n",
    "    f_coordi = []\n",
    "    for n in p:\n",
    "        f_coordi.append(float(n))\n",
    "    return f_coordi\n",
    "\n",
    "f_coordi_list = []\n",
    "for s_coordi in s_coordi_list:\n",
    "    f_coordi_list.append(str_to_float_coordi(s_coordi))\n",
    "\n",
    "print(f_coordi_list)"
   ]
  },
  {
   "cell_type": "code",
   "execution_count": 25,
   "metadata": {
    "tags": []
   },
   "outputs": [
    {
     "output_type": "stream",
     "name": "stdout",
     "text": "[[1.0, 2.2, 3.5], [2.1, 3.2, 5.5], [1.2, 1.3, 2.2], [2.1, 3.1, 4.5]]\n"
    }
   ],
   "source": [
    "s_coordi_list = ['1.0, 2.2, 3.5', '2.1, 3.2, 5.5', '1.2, 1.3, 2.2', '2.1, 3.1, 4.5']\n",
    "\n",
    "def str_to_float_coordi(s_coordi):\n",
    "    p = s_coordi.split(',')\n",
    "    f_coordi = [float(n) for n in p]\n",
    "    return f_coordi\n",
    "\n",
    "f_coordi_list = [str_to_float_coordi(s_coordi) for s_coordi in s_coordi_list]\n",
    "print(f_coordi_list)"
   ]
  },
  {
   "cell_type": "code",
   "execution_count": null,
   "metadata": {},
   "outputs": [],
   "source": []
  }
 ]
}