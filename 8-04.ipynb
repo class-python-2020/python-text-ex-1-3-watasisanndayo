{
 "metadata": {
  "language_info": {
   "codemirror_mode": {
    "name": "ipython",
    "version": 3
   },
   "file_extension": ".py",
   "mimetype": "text/x-python",
   "name": "python",
   "nbconvert_exporter": "python",
   "pygments_lexer": "ipython3",
   "version": "3.8.2-final"
  },
  "orig_nbformat": 2,
  "kernelspec": {
   "name": "python_defaultSpec_1598019053938",
   "display_name": "Python 3.8.2 32-bit"
  }
 },
 "nbformat": 4,
 "nbformat_minor": 2,
 "cells": [
  {
   "cell_type": "code",
   "execution_count": 1,
   "metadata": {},
   "outputs": [],
   "source": [
    "super_express = ['Nozomi3', 'Nozomi64', 'Nozomi150', 'Hikari440', 'Hikari538', 'Hikari730']"
   ]
  },
  {
   "cell_type": "code",
   "execution_count": 2,
   "metadata": {},
   "outputs": [
    {
     "output_type": "execute_result",
     "data": {
      "text/plain": "[('Nozomi', 3),\n ('Nozomi', 64),\n ('Nozomi', 150),\n ('Hikari', 440),\n ('Hikari', 538),\n ('Hikari', 730)]"
     },
     "metadata": {},
     "execution_count": 2
    }
   ],
   "source": [
    "def splitter(value, sp):\n",
    "    res = value.split(sp)\n",
    "    if len(res) == 2:\n",
    "        return (sp, int(res[1]))\n",
    "    return None\n",
    "\n",
    "result = []\n",
    "for v in super_express:\n",
    "    for s in ['Nozomi', 'Hikari', 'Kodama']:\n",
    "        temp = splitter(v, s)\n",
    "        if temp is not None:\n",
    "            result.append(temp)\n",
    "\n",
    "result"
   ]
  },
  {
   "cell_type": "code",
   "execution_count": 3,
   "metadata": {},
   "outputs": [
    {
     "output_type": "execute_result",
     "data": {
      "text/plain": "[('Nozomi', 3),\n ('Nozomi', 64),\n ('Nozomi', 150),\n ('Hikari', 440),\n ('Hikari', 538),\n ('Hikari', 730)]"
     },
     "metadata": {},
     "execution_count": 3
    }
   ],
   "source": [
    "import re\n",
    "\n",
    "result = []\n",
    "for v in super_express:\n",
    "    g = re.search(r'([a-zA-z]+)(\\d+)', v)\n",
    "    result.append((g.group(1), int(g.group(2))))\n",
    "    \n",
    "\n",
    "result"
   ]
  },
  {
   "cell_type": "code",
   "execution_count": 5,
   "metadata": {
    "tags": []
   },
   "outputs": [
    {
     "output_type": "stream",
     "name": "stdout",
     "text": "ozomi/3\nozomi/64\nozomi/150\nikari/440\nikari/538\nikari/730\n"
    }
   ],
   "source": [
    "for v in super_express:\n",
    "    g = re.search(r'([a-z]+)(\\d+)', v)\n",
    "    print(g.group(1), g.group(2), sep='/')"
   ]
  },
  {
   "cell_type": "code",
   "execution_count": 8,
   "metadata": {
    "tags": []
   },
   "outputs": [
    {
     "output_type": "stream",
     "name": "stdout",
     "text": "Nozomi/3\nNozomi6/4\nNozomi15/0\nHikari44/0\nHikari53/8\nHikari73/0\n"
    }
   ],
   "source": [
    "for v in super_express:\n",
    "    g = re.search(r'(\\w+)(\\d+)', v)\n",
    "    print(g.group(1), g.group(2), sep='/')"
   ]
  },
  {
   "cell_type": "code",
   "execution_count": 9,
   "metadata": {
    "tags": []
   },
   "outputs": [
    {
     "output_type": "stream",
     "name": "stdout",
     "text": "Nozomi/3\nNozomi/64\nNozomi/150\nHikari/440\nHikari/538\nHikari/730\n"
    }
   ],
   "source": [
    "for v in super_express:\n",
    "    g = re.search(r'(\\D+)(\\d+)', v)\n",
    "    print(g.group(1), g.group(2), sep='/')"
   ]
  },
  {
   "cell_type": "code",
   "execution_count": 10,
   "metadata": {
    "tags": []
   },
   "outputs": [
    {
     "output_type": "stream",
     "name": "stdout",
     "text": "Nozomi/3\nNozomi/64\nNozomi/150\nHikari/440\nHikari/538\nHikari/730\n"
    }
   ],
   "source": [
    "for v in super_express:\n",
    "    g = re.search(r'([^0-9]+)(\\d+)', v)\n",
    "    print(g.group(1), g.group(2), sep='/')"
   ]
  },
  {
   "cell_type": "code",
   "execution_count": 11,
   "metadata": {
    "tags": []
   },
   "outputs": [
    {
     "output_type": "stream",
     "name": "stdout",
     "text": "のぞみ/3\nのぞみ/64\nのぞみ/150\nひかり/440\nひかり/538\nこだま/730\n"
    }
   ],
   "source": [
    "super_express_jp = ['のぞみ3', 'のぞみ64', 'のぞみ150', 'ひかり440', 'ひかり538', 'こだま730']\n",
    "\n",
    "for v in super_express_jp:\n",
    "    g = re.search(r'([^0-9]+)(\\d+)', v)\n",
    "    print(g.group(1), g.group(2), sep='/')"
   ]
  },
  {
   "cell_type": "code",
   "execution_count": 12,
   "metadata": {
    "tags": []
   },
   "outputs": [
    {
     "output_type": "stream",
     "name": "stdout",
     "text": "のぞみ\nのぞみ\nのぞみ\nひかり\nひかり\nこだま\n"
    }
   ],
   "source": [
    "super_express_jp = ['のぞみ3', 'のぞみ64', 'のぞみ150', 'ひかり440', 'ひかり538', 'こだま730']\n",
    "\n",
    "for v in super_express_jp:\n",
    "    g = re.search(r'[^0-9]+', v)\n",
    "    print(g.group(0))"
   ]
  },
  {
   "cell_type": "code",
   "execution_count": 13,
   "metadata": {},
   "outputs": [
    {
     "output_type": "execute_result",
     "data": {
      "text/plain": "['RX-7', 'Boeing787', 'N700']"
     },
     "metadata": {},
     "execution_count": 13
    }
   ],
   "source": [
    "import re\n",
    "\n",
    "data = 'かなり昔のRX-7で東京駅まで送ってもらい、成田空港からBoeing787で高松空港まで行き、帰りはN700系で岡山から戻りました。'\n",
    "re.findall(r'[a-zA-Z-]+\\d+', data)"
   ]
  },
  {
   "cell_type": "code",
   "execution_count": 14,
   "metadata": {},
   "outputs": [
    {
     "output_type": "execute_result",
     "data": {
      "text/plain": "['かなり昔のRX-7', 'で東京駅まで送ってもらい、成田空港からBoeing787', 'で高松空港まで行き、帰りはN700']"
     },
     "metadata": {},
     "execution_count": 14
    }
   ],
   "source": [
    "re.findall(r'\\D+\\d+', data)"
   ]
  },
  {
   "cell_type": "code",
   "execution_count": null,
   "metadata": {},
   "outputs": [],
   "source": []
  }
 ]
}