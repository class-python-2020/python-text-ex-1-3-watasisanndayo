{
 "metadata": {
  "language_info": {
   "codemirror_mode": {
    "name": "ipython",
    "version": 3
   },
   "file_extension": ".py",
   "mimetype": "text/x-python",
   "name": "python",
   "nbconvert_exporter": "python",
   "pygments_lexer": "ipython3",
   "version": "3.8.2-final"
  },
  "orig_nbformat": 2,
  "kernelspec": {
   "name": "python_defaultSpec_1597895807954",
   "display_name": "Python 3.8.2 32-bit"
  }
 },
 "nbformat": 4,
 "nbformat_minor": 2,
 "cells": [
  {
   "cell_type": "code",
   "execution_count": 1,
   "metadata": {},
   "outputs": [
    {
     "output_type": "execute_result",
     "data": {
      "text/plain": "3.141592653589793"
     },
     "metadata": {},
     "execution_count": 1
    }
   ],
   "source": [
    "import math\n",
    "math.pi"
   ]
  },
  {
   "cell_type": "code",
   "execution_count": 2,
   "metadata": {
    "tags": []
   },
   "outputs": [
    {
     "output_type": "stream",
     "name": "stdout",
     "text": "['__builtins__', '__cached__', '__doc__', '__file__', '__loader__', '__name__', '__package__', '__spec__', 'func']\n"
    }
   ],
   "source": [
    "import my_module\n",
    "my_module_attri = dir(my_module)\n",
    "print(my_module_attri)"
   ]
  },
  {
   "cell_type": "code",
   "execution_count": 3,
   "metadata": {
    "tags": []
   },
   "outputs": [
    {
     "output_type": "stream",
     "name": "stdout",
     "text": "In the global  : initial  initial  initial  initial \nAfter local    : test     test     test     test    \nAfter nonlocal : test     test     nonlocal test    \nAfter global   : test     test     nonlocal test    \nAfter func call: initial  initial  initial  global   \n"
    }
   ],
   "source": [
    "def scope_test():\n",
    "    def do_local():\n",
    "        s1 = 'local    '\n",
    "    def do_nonlocal():\n",
    "        nonlocal s2\n",
    "        s2 = 'nonlocal'\n",
    "    def do_global():\n",
    "        global s3\n",
    "        s3 = 'global   '\n",
    "\n",
    "    s0 = s1 = s2 = s3 = 'test    '\n",
    "    do_local()\n",
    "    print(\"After local    :\", s0, s1, s2, s3)\n",
    "    do_nonlocal()\n",
    "    print(\"After nonlocal :\", s0, s1, s2, s3)\n",
    "    do_global()\n",
    "    print(\"After global   :\", s0, s1, s2, s3)\n",
    "\n",
    "s0 = s1 = s2 = s3 = \"initial \"\n",
    "print(\"In the global  :\", s0, s1, s2, s3)\n",
    "scope_test()\n",
    "print(\"After func call:\", s0, s1, s2, s3)"
   ]
  },
  {
   "cell_type": "code",
   "execution_count": 4,
   "metadata": {
    "tags": []
   },
   "outputs": [
    {
     "output_type": "stream",
     "name": "stdout",
     "text": "In event1: Happy  -> After event1: Happy \nIn event2: Sad    -> After event2: Happy \nIn event3: Tired  -> After event3: Tired \nIn event4: Excite -> After event4: Tired \nIn event5: Scare  -> After event5: Tired \n"
    }
   ],
   "source": [
    "x = 'Happy '\n",
    "def event1():\n",
    "    print(\"In event1:\", x, end=' -> ')\n",
    "\n",
    "def event2():\n",
    "    x = 'Sad   '\n",
    "    print(\"In event2:\", x, end=' -> ')\n",
    "\n",
    "def event3():\n",
    "    global x\n",
    "    x = 'Tired '\n",
    "    print(\"In event3:\", x, end=' -> ')\n",
    "\n",
    "def event4():\n",
    "    x = 'Excite'\n",
    "    def happening():\n",
    "        print(\"In event4:\", x, end=' -> ')\n",
    "    happening()\n",
    "\n",
    "def event5():\n",
    "    x = 'Fun   '\n",
    "    def happening():\n",
    "        nonlocal x\n",
    "        x = 'Scare '\n",
    "    happening()\n",
    "    print(\"In event5:\", x, end=' -> ')\n",
    "\n",
    "func_list = [event1, event2, event3, event4, event5]\n",
    "for f in func_list:\n",
    "    f()\n",
    "    print(\"After {}: {}\".format(f.__name__, x))"
   ]
  },
  {
   "cell_type": "code",
   "execution_count": null,
   "metadata": {},
   "outputs": [],
   "source": []
  }
 ]
}