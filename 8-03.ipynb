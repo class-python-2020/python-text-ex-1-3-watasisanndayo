{
 "metadata": {
  "language_info": {
   "codemirror_mode": {
    "name": "ipython",
    "version": 3
   },
   "file_extension": ".py",
   "mimetype": "text/x-python",
   "name": "python",
   "nbconvert_exporter": "python",
   "pygments_lexer": "ipython3",
   "version": "3.8.2-final"
  },
  "orig_nbformat": 2,
  "kernelspec": {
   "name": "python_defaultSpec_1598017265185",
   "display_name": "Python 3.8.2 32-bit"
  }
 },
 "nbformat": 4,
 "nbformat_minor": 2,
 "cells": [
  {
   "cell_type": "code",
   "execution_count": 2,
   "metadata": {},
   "outputs": [
    {
     "output_type": "execute_result",
     "data": {
      "text/plain": "{'す': 1, 'も': 8, 'の': 1, 'う': 1, 'ち': 1}"
     },
     "metadata": {},
     "execution_count": 2
    }
   ],
   "source": [
    "data = 'すもももももももものうち'\n",
    "count_dic = {}\n",
    "for v in data:\n",
    "    if v in count_dic:\n",
    "        count_dic[v] += 1\n",
    "    else:\n",
    "        count_dic[v] = 1\n",
    "count_dic"
   ]
  },
  {
   "cell_type": "code",
   "execution_count": 3,
   "metadata": {},
   "outputs": [
    {
     "output_type": "execute_result",
     "data": {
      "text/plain": "defaultdict(int, {'す': 1, 'も': 8, 'の': 1, 'う': 1, 'ち': 1})"
     },
     "metadata": {},
     "execution_count": 3
    }
   ],
   "source": [
    "import collections\n",
    "count_dic = collections.defaultdict(int)\n",
    "for v in data:\n",
    "    count_dic[v] += 1\n",
    "count_dic"
   ]
  },
  {
   "cell_type": "code",
   "execution_count": 4,
   "metadata": {},
   "outputs": [
    {
     "output_type": "execute_result",
     "data": {
      "text/plain": "0"
     },
     "metadata": {},
     "execution_count": 4
    }
   ],
   "source": [
    "int()"
   ]
  },
  {
   "cell_type": "code",
   "execution_count": 5,
   "metadata": {},
   "outputs": [
    {
     "output_type": "execute_result",
     "data": {
      "text/plain": "defaultdict(list,\n            {'す': ['す'],\n             'も': ['も', 'も', 'も', 'も', 'も', 'も', 'も', 'も'],\n             'の': ['の'],\n             'う': ['う'],\n             'ち': ['ち']})"
     },
     "metadata": {},
     "execution_count": 5
    }
   ],
   "source": [
    "count_dic = collections.defaultdict(list)\n",
    "for v in data:\n",
    "    count_dic[v].append(v)\n",
    "count_dic"
   ]
  },
  {
   "cell_type": "code",
   "execution_count": 6,
   "metadata": {},
   "outputs": [
    {
     "output_type": "execute_result",
     "data": {
      "text/plain": "{'す': ['す'],\n 'も': ['も', 'も', 'も', 'も', 'も', 'も', 'も', 'も'],\n 'の': ['の'],\n 'う': ['う'],\n 'ち': ['ち']}"
     },
     "metadata": {},
     "execution_count": 6
    }
   ],
   "source": [
    "count_dic = {}\n",
    "for v in data:\n",
    "    count_dic.setdefault(v, []).append(v)\n",
    "count_dic"
   ]
  },
  {
   "cell_type": "code",
   "execution_count": 7,
   "metadata": {},
   "outputs": [
    {
     "output_type": "execute_result",
     "data": {
      "text/plain": "Counter({'す': 1, 'も': 8, 'の': 1, 'う': 1, 'ち': 1})"
     },
     "metadata": {},
     "execution_count": 7
    }
   ],
   "source": [
    "counter = collections.Counter(data)\n",
    "counter"
   ]
  },
  {
   "cell_type": "code",
   "execution_count": 8,
   "metadata": {},
   "outputs": [
    {
     "output_type": "execute_result",
     "data": {
      "text/plain": "1"
     },
     "metadata": {},
     "execution_count": 8
    }
   ],
   "source": [
    "counter['す']"
   ]
  },
  {
   "cell_type": "code",
   "execution_count": 9,
   "metadata": {},
   "outputs": [
    {
     "output_type": "execute_result",
     "data": {
      "text/plain": "0"
     },
     "metadata": {},
     "execution_count": 9
    }
   ],
   "source": [
    "counter['ぽ']"
   ]
  },
  {
   "cell_type": "code",
   "execution_count": 10,
   "metadata": {},
   "outputs": [
    {
     "output_type": "execute_result",
     "data": {
      "text/plain": "[('も', 8), ('す', 1), ('の', 1), ('う', 1), ('ち', 1)]"
     },
     "metadata": {},
     "execution_count": 10
    }
   ],
   "source": [
    "counter.most_common()"
   ]
  },
  {
   "cell_type": "code",
   "execution_count": 12,
   "metadata": {},
   "outputs": [
    {
     "output_type": "execute_result",
     "data": {
      "text/plain": "[('も', 8), ('す', 1), ('の', 1), ('う', 1), ('ち', 1)]"
     },
     "metadata": {},
     "execution_count": 12
    }
   ],
   "source": [
    "counter.most_common()"
   ]
  },
  {
   "cell_type": "code",
   "execution_count": 13,
   "metadata": {},
   "outputs": [
    {
     "output_type": "execute_result",
     "data": {
      "text/plain": "[('も', 8)]"
     },
     "metadata": {},
     "execution_count": 13
    }
   ],
   "source": [
    "counter.most_common(1)"
   ]
  },
  {
   "cell_type": "code",
   "execution_count": 14,
   "metadata": {
    "tags": []
   },
   "outputs": [
    {
     "output_type": "stream",
     "name": "stdout",
     "text": "も 8\n"
    }
   ],
   "source": [
    "top = counter.most_common()[0]\n",
    "print(top[0], top[1])"
   ]
  },
  {
   "cell_type": "code",
   "execution_count": 15,
   "metadata": {},
   "outputs": [],
   "source": [
    "CharCount = collections.namedtuple('CharCount', ['cher', 'count'])"
   ]
  },
  {
   "cell_type": "code",
   "execution_count": 16,
   "metadata": {},
   "outputs": [
    {
     "output_type": "execute_result",
     "data": {
      "text/plain": "CharCount(cher='も', count=8)"
     },
     "metadata": {},
     "execution_count": 16
    }
   ],
   "source": [
    "mo = CharCount('も', 8)\n",
    "mo"
   ]
  },
  {
   "cell_type": "code",
   "execution_count": 17,
   "metadata": {
    "tags": []
   },
   "outputs": [
    {
     "output_type": "stream",
     "name": "stdout",
     "text": "も 8\n"
    }
   ],
   "source": [
    "print(mo.cher, mo.count)"
   ]
  },
  {
   "cell_type": "code",
   "execution_count": 18,
   "metadata": {},
   "outputs": [
    {
     "output_type": "error",
     "ename": "AttributeError",
     "evalue": "can't set attribute",
     "traceback": [
      "\u001b[1;31m---------------------------------------------------------------------------\u001b[0m",
      "\u001b[1;31mAttributeError\u001b[0m                            Traceback (most recent call last)",
      "\u001b[1;32m<ipython-input-18-af54518a07c5>\u001b[0m in \u001b[0;36m<module>\u001b[1;34m\u001b[0m\n\u001b[1;32m----> 1\u001b[1;33m \u001b[0mmo\u001b[0m\u001b[1;33m.\u001b[0m\u001b[0mcount\u001b[0m \u001b[1;33m+=\u001b[0m \u001b[1;36m3\u001b[0m\u001b[1;33m\u001b[0m\u001b[1;33m\u001b[0m\u001b[0m\n\u001b[0m",
      "\u001b[1;31mAttributeError\u001b[0m: can't set attribute"
     ]
    }
   ],
   "source": [
    "mo.count += 3"
   ]
  },
  {
   "cell_type": "code",
   "execution_count": 19,
   "metadata": {},
   "outputs": [
    {
     "output_type": "execute_result",
     "data": {
      "text/plain": "[CharCount(cher='も', count=8),\n CharCount(cher='す', count=1),\n CharCount(cher='の', count=1),\n CharCount(cher='う', count=1),\n CharCount(cher='ち', count=1)]"
     },
     "metadata": {},
     "execution_count": 19
    }
   ],
   "source": [
    "cc_list = [CharCount(*v) for v in counter.most_common()]\n",
    "cc_list"
   ]
  },
  {
   "cell_type": "code",
   "execution_count": 20,
   "metadata": {},
   "outputs": [
    {
     "output_type": "execute_result",
     "data": {
      "text/plain": "['す', 'の', 'う', 'ち']"
     },
     "metadata": {},
     "execution_count": 20
    }
   ],
   "source": [
    "import collections\n",
    "data = 'すもももももももものうち'\n",
    "count = collections.Counter(data)\n",
    "res_dict = collections.defaultdict(list)\n",
    "for ch, cnt in count.items():\n",
    "    res_dict[cnt].append(ch)\n",
    "res_dict[1]"
   ]
  },
  {
   "cell_type": "code",
   "execution_count": null,
   "metadata": {},
   "outputs": [],
   "source": []
  }
 ]
}